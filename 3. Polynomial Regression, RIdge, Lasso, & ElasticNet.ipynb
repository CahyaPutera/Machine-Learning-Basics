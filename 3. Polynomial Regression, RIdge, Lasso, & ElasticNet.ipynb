{
 "cells": [
  {
   "cell_type": "markdown",
   "metadata": {},
   "source": [
    "# Polynomial Regression\n",
    "\n",
    "Polynomial Regression is a form of linear regression in which the relationship between the independent variable x and dependent variable y is modeled as an nth degree polynomial. Polynomial regression fits a nonlinear relationship between the value of x and the corresponding conditional mean of y, denoted E(y |x)"
   ]
  },
  {
   "cell_type": "markdown",
   "metadata": {},
   "source": [
    "<img src='image_skssk\\a_img.gif' width=\"500\"/>"
   ]
  },
  {
   "cell_type": "markdown",
   "metadata": {},
   "source": [
    "Hence If we try to use a simple linear regression in the above graph then the linear regression line won’t fit very well. It is very difficult to fit a linear regression line in the above graph with a low value of error. Hence we can try to use the `polynomial regression` to fit a polynomial line so that we can achieve a minimum error or minimum cost function. The equation of the polynomial regression for the above graph data would be:\n",
    "\n",
    "## **`y = θo + θ₁x₁ + θ₂ x₁²`**\n",
    "\n",
    "This is the general equation of a polynomial regression is:\n",
    "\n",
    "## **`Y=θo + θ₁X + θ₂X² + … + θₘXᵐ + residual error`**\n",
    "\n",
    "<img src='image_skssk\\b_img.gif' width='500'/>"
   ]
  },
  {
   "cell_type": "markdown",
   "metadata": {},
   "source": [
    "**Why Polynomial Regression:**\n",
    "\n",
    "There are some relationships that a researcher will hypothesize is curvilinear. Clearly, such type of cases will include a polynomial term.\n",
    "Inspection of residuals. If we try to fit a linear model to curved data, a scatter plot of residuals (Y axis) on the predictor (X axis) will have patches of many positive residuals in the middle. Hence in such situation it is not appropriate.\n",
    "An assumption in usual multiple linear regression analysis is that all the independent variables are independent. In polynomial regression model, this assumption is not satisfied.\n",
    "\n",
    "**Uses of Polynomial Regression:**\n",
    "\n",
    "These are basically used to define or describe non-linear phenomenon such as:\n",
    "- Growth rate of tissues.\n",
    "- Progression of disease epidemics\n",
    "- Distribution of carbon isotopes in lake sediments\n",
    "\n",
    "**Advantages of using Polynomial Regression:**\n",
    "- Broad range of function can be fit under it.\n",
    "- Polynomial basically fits wide range of curvature.\n",
    "- Polynomial provides the best approximation of the relationship between dependent and independent variable.\n",
    "\n",
    "\n",
    "**Disadvantages of using Polynomial Regression**\n",
    "- These are too sensitive to the outliers.\n",
    "- The presence of one or two outliers in the data can seriously affect the results of a nonlinear analysis.\n",
    "- In addition there are unfortunately fewer model validation tools for the detection of outliers in nonlinear regression than there are for linear regression."
   ]
  },
  {
   "cell_type": "markdown",
   "metadata": {},
   "source": [
    "## LASSO, Ridge, & Elastic Net Regression\n",
    "### What are some assumptions of a linear regression model?\n",
    "- The relationship between the two variables is linear.\n",
    "- All variables are multivariate normal.\n",
    "- There isn’t much multicollinearity among the dependent variables. A good way to test this is variance inflation.\n",
    "- There is little to no autocorrelation in the data. If you are unfamiliar with autocorrelation, autocorrelation occurs when the residuals of the variables in the model are not independent of each other.\n",
    "- There is homoscedasticity. That is, the size of the error does not vary by the sizes of the independent variables. The error does not increase substantially if your variables get larger or smaller.\n",
    "- The residuals of the linear regression should be normally distributed around a mean of 0.\n",
    "\n",
    "### What are some approaches to solving this problem?\n",
    "We want to find a line that best captures the essence of the data provided. Why? In the context of machine learning, we want to find a line that predicts the values of Y based upon values of X. **The two variables to measure the effectiveness of your model are bias and variance.**\n",
    "\n",
    "- `Bias`- the error or difference between points provided and points captured on your line in your training set\n",
    "- `Variance`- error from sensitivity to small fluctuations in the training set\n",
    "\n",
    "### Underfit Model\n",
    "\n",
    "We can find a line that captures a general direction but does not capture many of the points. Since it does not capture many of the points well, it has a high bias or high error. Since it does not grasp many of the points in the graph, it also has a low variance. This would be called an underfit model.\n",
    "\n",
    "### Good Fit Model\n",
    "\n",
    "We can find a line that captures the general direction of the points but might not capture every point in the graph. This would be a good fit model.\n",
    "\n",
    "### Overfit Model\n",
    "\n",
    "Lastly, we can find a line that captures every single point in the graph. This would be called an overfit model. Low bias/error, High Variance\n",
    "\n",
    "Below are good images to describe the differences in models.\n",
    "\n",
    "<img src='image_skssk\\c_img.png' width=600/>"
   ]
  },
  {
   "cell_type": "markdown",
   "metadata": {},
   "source": [
    "### Bias-Variance Trade-off\n",
    "This situation above describes the bias-variance tradeoff. Bias measures the error between what the model captures and what the available data is showing. Variance is the error from sensitivity to small fluctuations in the available data. That is, a model with high variance effectively captures random noise in the available data rather than the intended outputs. We ideally want to find a line that has low bias and low variance.\n",
    "\n",
    "<img src='image_skssk\\d_img.png' width='450'/>"
   ]
  },
  {
   "cell_type": "markdown",
   "metadata": {},
   "source": [
    "**Why would a line with high variance be a bad thing?**\n",
    "\n",
    "After all, wouldn’t a line that captures every point be the ideal line? Sadly no. This line captures the peculiar nuances of the sample data well but it will not necessarily perform as well on unseen data. These nuances of the sample data are the outliers and other unique characteristics of the sample data, characteristics that might not be very true on unseen data.\n",
    "\n",
    "**What are some solutions to prevent overfitting on sample data?**\n",
    "\n",
    "While there are a number of solutions to prevent or reduce overfitting on sample data => Lasso, Ridge, and Elastic Net.\n",
    "\n",
    "**Reducing Overfit with regularization**\n",
    "\n",
    "Lasso, Ridge, and Elastic Net models are forms of regularized linear techniques found in General Linear Models.\n",
    "\n",
    "**Why is regularization important?**\n",
    "\n",
    "Regularization favors simpler models to more complex models to prevent your model from overfitting to the data. How so? They address the following concerns within a model: variance-bias tradeoff, multicollinearity, sparse data handling(i.e. the situation where there are more observations than features), feature selection, and an easier interpretation of the output.\n",
    "\n",
    "### Lasso\n",
    "Lasso stands for Least Absolute Shrinkage Selector Operator. Lasso assigns a penalty to the coefficients in the linear model using the formula below and eliminates variables with coefficients that zero. This is called shrinkage or the process where data values are shrunk to a central point such as a mean.\n",
    "\n",
    "Lasso Formula: Lasso = Sum of Error + Sum of the absolute value of coefficients\n",
    "\n",
    "### **` L = ∑( Ŷi– Yi)² + λ∑ |β|`**\n",
    "\n",
    "Looking at the formula, Lasso adds a penalty equal to the absolute value of the magnitude of the coefficients multiplied by lambda. The value of lambda also plays a key role in how much weight you assign to the penalty for the coefficients. This penalty reduces the value of many coefficients to zero, all of which are eliminated.\n",
    "\n",
    "**What is the significance of adding a penalty to coefficients in lasso?**\n",
    "\n",
    "Lasso adds a penalty to coefficients the model overemphasizes. This reduces the degree of overfitting that occurs within the model.\n",
    "\n",
    "**What are some limitations of the Lasso model?**\n",
    "\n",
    "Lasso does not work well with multicollinearity. If you are unfamiliar, multicollinearity occurs when some of the dependent variables are correlated with each other. Why? Lasso might randomly choose one of the multicollinear variables without understanding the context. Such an action might eliminate relevant independent variables.\n",
    "\n",
    "### Ridge\n",
    "Ridge assigns a penalty that is the squared magnitude of the coefficients to the loss function multiplied by lambda. As Lasso does, ridge also adds a penalty to coefficients the model overemphasizes. The value of lambda also plays a key role in how much weight you assign to the penalty for the coefficients. The larger your value of lambda, the more likely your coefficients get closer and closer to zero. Unlike lasso, the ridge model will not shrink these coefficients to zero.\n",
    "\n",
    "Ridge Formula: Sum of Error + Sum of the squares of coefficients\n",
    "\n",
    "### **`L = ∑( Ŷi– Yi)² + λ∑ β²`**\n",
    "\n",
    "**What are some limitations of Ridge?**\n",
    "\n",
    "Ridge does not eliminate coefficients in your model even if the variables are irrelevant. This can be negative if you have more features than observations.\n",
    "\n",
    "### Elastic Net\n",
    "Elastic Net combines characteristics of both lasso and ridge. Elastic Net reduces the impact of different features while not eliminating all of the features.\n",
    "\n",
    "The formula as you can see below is the sum of the lasso and ridge formulas.\n",
    "\n",
    "Elastic Net Formula: Ridge + Lasso\n",
    "\n",
    "### **`L = ∑( Ŷi– Yi)² + λ∑ β² + λ∑ |β|`**\n",
    "\n",
    "To conclude, Lasso, Ridge, and Elastic Net are excellent methods to improve the performance of your linear model. This includes if you are running a neural network, a collection of linear models. Lasso will eliminate many features, and reduce overfitting in your linear model. Ridge will reduce the impact of features that are not important in predicting your y values. Elastic Net combines feature elimination from Lasso and feature coefficient reduction from the Ridge model to improve your model’s predictions."
   ]
  },
  {
   "cell_type": "code",
   "execution_count": 37,
   "metadata": {},
   "outputs": [],
   "source": [
    "import pandas as pd\n",
    "import numpy as np\n",
    "import matplotlib.pyplot as plt\n",
    "import seaborn as sns\n",
    "\n",
    "from sklearn.linear_model import LinearRegression, Ridge, Lasso, ElasticNet\n",
    "from sklearn.metrics import mean_squared_error as mse"
   ]
  },
  {
   "cell_type": "code",
   "execution_count": 38,
   "metadata": {
    "scrolled": true
   },
   "outputs": [
    {
     "data": {
      "text/html": [
       "<div>\n",
       "<style scoped>\n",
       "    .dataframe tbody tr th:only-of-type {\n",
       "        vertical-align: middle;\n",
       "    }\n",
       "\n",
       "    .dataframe tbody tr th {\n",
       "        vertical-align: top;\n",
       "    }\n",
       "\n",
       "    .dataframe thead th {\n",
       "        text-align: right;\n",
       "    }\n",
       "</style>\n",
       "<table border=\"1\" class=\"dataframe\">\n",
       "  <thead>\n",
       "    <tr style=\"text-align: right;\">\n",
       "      <th></th>\n",
       "      <th>x</th>\n",
       "      <th>y</th>\n",
       "    </tr>\n",
       "  </thead>\n",
       "  <tbody>\n",
       "    <tr>\n",
       "      <th>0</th>\n",
       "      <td>0</td>\n",
       "      <td>0.849062</td>\n",
       "    </tr>\n",
       "    <tr>\n",
       "      <th>1</th>\n",
       "      <td>10</td>\n",
       "      <td>1.037144</td>\n",
       "    </tr>\n",
       "    <tr>\n",
       "      <th>2</th>\n",
       "      <td>20</td>\n",
       "      <td>0.970162</td>\n",
       "    </tr>\n",
       "    <tr>\n",
       "      <th>3</th>\n",
       "      <td>30</td>\n",
       "      <td>1.142372</td>\n",
       "    </tr>\n",
       "    <tr>\n",
       "      <th>4</th>\n",
       "      <td>40</td>\n",
       "      <td>0.923406</td>\n",
       "    </tr>\n",
       "  </tbody>\n",
       "</table>\n",
       "</div>"
      ],
      "text/plain": [
       "    x         y\n",
       "0   0  0.849062\n",
       "1  10  1.037144\n",
       "2  20  0.970162\n",
       "3  30  1.142372\n",
       "4  40  0.923406"
      ]
     },
     "execution_count": 38,
     "metadata": {},
     "output_type": "execute_result"
    }
   ],
   "source": [
    "x = np.arange(0, 270, 10)\n",
    "y = np.cos(x * np.pi/180) + np.random.normal(0, 0.15, len(x))\n",
    "df = pd.DataFrame({'x':x, 'y':y})\n",
    "df.head()"
   ]
  },
  {
   "cell_type": "code",
   "execution_count": 39,
   "metadata": {},
   "outputs": [
    {
     "data": {
      "image/png": "[encoded data removed]",
      "text/plain": [
       "<Figure size 576x396 with 1 Axes>"
      ]
     },
     "metadata": {},
     "output_type": "display_data"
    }
   ],
   "source": [
    "plt.style.use('seaborn')\n",
    "plt.plot(df['x'], df['y'], 'k.')\n",
    "plt.show()"
   ]
  },
  {
   "cell_type": "markdown",
   "metadata": {},
   "source": [
    "### Fitting model using LinearRegression, Ridge, Lasso, & Elastic Net"
   ]
  },
  {
   "cell_type": "code",
   "execution_count": 40,
   "metadata": {},
   "outputs": [],
   "source": [
    "df1 = df.copy()"
   ]
  },
  {
   "cell_type": "code",
   "execution_count": 41,
   "metadata": {
    "scrolled": true
   },
   "outputs": [
    {
     "data": {
      "text/plain": [
       "ElasticNet()"
      ]
     },
     "execution_count": 41,
     "metadata": {},
     "output_type": "execute_result"
    }
   ],
   "source": [
    "model_LR = LinearRegression()\n",
    "model_RD = Ridge()\n",
    "model_LS = Lasso()\n",
    "model_EN = ElasticNet()\n",
    "\n",
    "model_LR.fit(df1[['x']], df1['y'])\n",
    "model_RD.fit(df1[['x']], df1['y'])\n",
    "model_LS.fit(df1[['x']], df1['y'])\n",
    "model_EN.fit(df1[['x']], df1['y'])"
   ]
  },
  {
   "cell_type": "markdown",
   "metadata": {},
   "source": [
    "### Predict target(y) using Linear Regression, Ridge, Lasso, & Elastic Net"
   ]
  },
  {
   "cell_type": "code",
   "execution_count": 42,
   "metadata": {},
   "outputs": [
    {
     "data": {
      "text/html": [
       "<div>\n",
       "<style scoped>\n",
       "    .dataframe tbody tr th:only-of-type {\n",
       "        vertical-align: middle;\n",
       "    }\n",
       "\n",
       "    .dataframe tbody tr th {\n",
       "        vertical-align: top;\n",
       "    }\n",
       "\n",
       "    .dataframe thead th {\n",
       "        text-align: right;\n",
       "    }\n",
       "</style>\n",
       "<table border=\"1\" class=\"dataframe\">\n",
       "  <thead>\n",
       "    <tr style=\"text-align: right;\">\n",
       "      <th></th>\n",
       "      <th>x</th>\n",
       "      <th>y</th>\n",
       "      <th>y_LR</th>\n",
       "      <th>y_RD</th>\n",
       "      <th>y_LS</th>\n",
       "      <th>y_EN</th>\n",
       "    </tr>\n",
       "  </thead>\n",
       "  <tbody>\n",
       "    <tr>\n",
       "      <th>0</th>\n",
       "      <td>0</td>\n",
       "      <td>0.849062</td>\n",
       "      <td>0.745243</td>\n",
       "      <td>0.745237</td>\n",
       "      <td>0.723814</td>\n",
       "      <td>0.734451</td>\n",
       "    </tr>\n",
       "    <tr>\n",
       "      <th>1</th>\n",
       "      <td>10</td>\n",
       "      <td>1.037144</td>\n",
       "      <td>0.672350</td>\n",
       "      <td>0.672344</td>\n",
       "      <td>0.652569</td>\n",
       "      <td>0.662388</td>\n",
       "    </tr>\n",
       "    <tr>\n",
       "      <th>2</th>\n",
       "      <td>20</td>\n",
       "      <td>0.970162</td>\n",
       "      <td>0.599457</td>\n",
       "      <td>0.599452</td>\n",
       "      <td>0.581325</td>\n",
       "      <td>0.590325</td>\n",
       "    </tr>\n",
       "    <tr>\n",
       "      <th>3</th>\n",
       "      <td>30</td>\n",
       "      <td>1.142372</td>\n",
       "      <td>0.526564</td>\n",
       "      <td>0.526559</td>\n",
       "      <td>0.510080</td>\n",
       "      <td>0.518262</td>\n",
       "    </tr>\n",
       "    <tr>\n",
       "      <th>4</th>\n",
       "      <td>40</td>\n",
       "      <td>0.923406</td>\n",
       "      <td>0.453671</td>\n",
       "      <td>0.453667</td>\n",
       "      <td>0.438835</td>\n",
       "      <td>0.446200</td>\n",
       "    </tr>\n",
       "  </tbody>\n",
       "</table>\n",
       "</div>"
      ],
      "text/plain": [
       "    x         y      y_LR      y_RD      y_LS      y_EN\n",
       "0   0  0.849062  0.745243  0.745237  0.723814  0.734451\n",
       "1  10  1.037144  0.672350  0.672344  0.652569  0.662388\n",
       "2  20  0.970162  0.599457  0.599452  0.581325  0.590325\n",
       "3  30  1.142372  0.526564  0.526559  0.510080  0.518262\n",
       "4  40  0.923406  0.453671  0.453667  0.438835  0.446200"
      ]
     },
     "execution_count": 42,
     "metadata": {},
     "output_type": "execute_result"
    }
   ],
   "source": [
    "df1['y_LR'] = model_LR.predict(df[['x']])\n",
    "df1['y_RD'] = model_RD.predict(df[['x']])\n",
    "df1['y_LS'] = model_LS.predict(df[['x']])\n",
    "df1['y_EN'] = model_EN.predict(df[['x']])\n",
    "df1.head()"
   ]
  },
  {
   "cell_type": "markdown",
   "metadata": {},
   "source": [
    "## Visualize Prediction"
   ]
  },
  {
   "cell_type": "code",
   "execution_count": 43,
   "metadata": {},
   "outputs": [
    {
     "data": {
      "image/png": "[encoded data removed]",
      "text/plain": [
       "<Figure size 576x396 with 1 Axes>"
      ]
     },
     "metadata": {},
     "output_type": "display_data"
    }
   ],
   "source": [
    "plt.plot(df1['x'], df1['y'], 'k.')\n",
    "plt.plot(df1['x'], df1['y_LR'], 'm-')\n",
    "plt.plot(df1['x'], df1['y_RD'], 'b-')\n",
    "plt.plot(df1['x'], df1['y_LS'], 'r-')\n",
    "plt.plot(df1['x'], df1['y_EN'], 'g-')\n",
    "plt.xlabel('Variabel X')\n",
    "plt.ylabel('Variabel y')\n",
    "plt.legend(['Data', 'Linear', 'Ridge', 'Lasso', 'ElasticNet'])\n",
    "plt.show()"
   ]
  },
  {
   "cell_type": "markdown",
   "metadata": {},
   "source": [
    "As you might seen in the visualization above, the model could not represents the data well enough. This will leads to an **underfitting model**. To prevent such events, we will try to encounter it using **Polynomial Regression**"
   ]
  },
  {
   "cell_type": "code",
   "execution_count": 44,
   "metadata": {},
   "outputs": [
    {
     "name": "stdout",
     "output_type": "stream",
     "text": [
      "RMSE y_LR:  0.475949486334359\n",
      "RMSE y_RD:  0.4759494863469801\n",
      "RMSE y_LS:  0.4761226194025814\n",
      "RMSE y_EN:  0.4759934016330356\n"
     ]
    }
   ],
   "source": [
    "print('RMSE y_LR: ', np.sqrt(mse(df1['y'], df1['y_LR'])))\n",
    "print('RMSE y_RD: ', np.sqrt(mse(df1['y'], df1['y_RD'])))\n",
    "print('RMSE y_LS: ', np.sqrt(mse(df1['y'], df1['y_LS'])))\n",
    "print('RMSE y_EN: ', np.sqrt(mse(df1['y'], df1['y_EN'])))"
   ]
  },
  {
   "cell_type": "markdown",
   "metadata": {},
   "source": [
    "### Polynomial Regression\n",
    "Since the linear, ridge, lasso, and elastic net above seems to be underfitting, so we use polynomial regression\n",
    "\n",
    "### `Y=θo + θ₁X + θ₂X² + … + θₘXᵐ + residual error`\n",
    "\n",
    "*Variabel X dilakukan pemangkatan sampai menemukan garis prediksi yang bisa mengikuti pergerakan data*"
   ]
  },
  {
   "cell_type": "code",
   "execution_count": 45,
   "metadata": {
    "scrolled": true
   },
   "outputs": [
    {
     "data": {
      "text/html": [
       "<div>\n",
       "<style scoped>\n",
       "    .dataframe tbody tr th:only-of-type {\n",
       "        vertical-align: middle;\n",
       "    }\n",
       "\n",
       "    .dataframe tbody tr th {\n",
       "        vertical-align: top;\n",
       "    }\n",
       "\n",
       "    .dataframe thead th {\n",
       "        text-align: right;\n",
       "    }\n",
       "</style>\n",
       "<table border=\"1\" class=\"dataframe\">\n",
       "  <thead>\n",
       "    <tr style=\"text-align: right;\">\n",
       "      <th></th>\n",
       "      <th>x</th>\n",
       "      <th>y</th>\n",
       "      <th>y_LR</th>\n",
       "      <th>y_RD</th>\n",
       "      <th>y_LS</th>\n",
       "      <th>y_EN</th>\n",
       "      <th>x2</th>\n",
       "      <th>x3</th>\n",
       "      <th>x4</th>\n",
       "      <th>x5</th>\n",
       "      <th>x6</th>\n",
       "      <th>x7</th>\n",
       "      <th>x8</th>\n",
       "      <th>x9</th>\n",
       "    </tr>\n",
       "  </thead>\n",
       "  <tbody>\n",
       "    <tr>\n",
       "      <th>0</th>\n",
       "      <td>0</td>\n",
       "      <td>0.849062</td>\n",
       "      <td>0.745243</td>\n",
       "      <td>0.745237</td>\n",
       "      <td>0.723814</td>\n",
       "      <td>0.734451</td>\n",
       "      <td>0</td>\n",
       "      <td>0</td>\n",
       "      <td>0</td>\n",
       "      <td>0</td>\n",
       "      <td>0</td>\n",
       "      <td>0</td>\n",
       "      <td>0</td>\n",
       "      <td>0</td>\n",
       "    </tr>\n",
       "    <tr>\n",
       "      <th>1</th>\n",
       "      <td>10</td>\n",
       "      <td>1.037144</td>\n",
       "      <td>0.672350</td>\n",
       "      <td>0.672344</td>\n",
       "      <td>0.652569</td>\n",
       "      <td>0.662388</td>\n",
       "      <td>100</td>\n",
       "      <td>1000</td>\n",
       "      <td>10000</td>\n",
       "      <td>100000</td>\n",
       "      <td>1000000</td>\n",
       "      <td>10000000</td>\n",
       "      <td>100000000</td>\n",
       "      <td>1000000000</td>\n",
       "    </tr>\n",
       "    <tr>\n",
       "      <th>2</th>\n",
       "      <td>20</td>\n",
       "      <td>0.970162</td>\n",
       "      <td>0.599457</td>\n",
       "      <td>0.599452</td>\n",
       "      <td>0.581325</td>\n",
       "      <td>0.590325</td>\n",
       "      <td>400</td>\n",
       "      <td>8000</td>\n",
       "      <td>160000</td>\n",
       "      <td>3200000</td>\n",
       "      <td>64000000</td>\n",
       "      <td>1280000000</td>\n",
       "      <td>-169803776</td>\n",
       "      <td>898891776</td>\n",
       "    </tr>\n",
       "    <tr>\n",
       "      <th>3</th>\n",
       "      <td>30</td>\n",
       "      <td>1.142372</td>\n",
       "      <td>0.526564</td>\n",
       "      <td>0.526559</td>\n",
       "      <td>0.510080</td>\n",
       "      <td>0.518262</td>\n",
       "      <td>900</td>\n",
       "      <td>27000</td>\n",
       "      <td>810000</td>\n",
       "      <td>24300000</td>\n",
       "      <td>729000000</td>\n",
       "      <td>395163520</td>\n",
       "      <td>-1029996288</td>\n",
       "      <td>-835117568</td>\n",
       "    </tr>\n",
       "    <tr>\n",
       "      <th>4</th>\n",
       "      <td>40</td>\n",
       "      <td>0.923406</td>\n",
       "      <td>0.453671</td>\n",
       "      <td>0.453667</td>\n",
       "      <td>0.438835</td>\n",
       "      <td>0.446200</td>\n",
       "      <td>1600</td>\n",
       "      <td>64000</td>\n",
       "      <td>2560000</td>\n",
       "      <td>102400000</td>\n",
       "      <td>-198967296</td>\n",
       "      <td>631242752</td>\n",
       "      <td>-520093696</td>\n",
       "      <td>671088640</td>\n",
       "    </tr>\n",
       "  </tbody>\n",
       "</table>\n",
       "</div>"
      ],
      "text/plain": [
       "    x         y      y_LR      y_RD      y_LS      y_EN    x2     x3       x4  \\\n",
       "0   0  0.849062  0.745243  0.745237  0.723814  0.734451     0      0        0   \n",
       "1  10  1.037144  0.672350  0.672344  0.652569  0.662388   100   1000    10000   \n",
       "2  20  0.970162  0.599457  0.599452  0.581325  0.590325   400   8000   160000   \n",
       "3  30  1.142372  0.526564  0.526559  0.510080  0.518262   900  27000   810000   \n",
       "4  40  0.923406  0.453671  0.453667  0.438835  0.446200  1600  64000  2560000   \n",
       "\n",
       "          x5         x6          x7          x8          x9  \n",
       "0          0          0           0           0           0  \n",
       "1     100000    1000000    10000000   100000000  1000000000  \n",
       "2    3200000   64000000  1280000000  -169803776   898891776  \n",
       "3   24300000  729000000   395163520 -1029996288  -835117568  \n",
       "4  102400000 -198967296   631242752  -520093696   671088640  "
      ]
     },
     "execution_count": 45,
     "metadata": {},
     "output_type": "execute_result"
    }
   ],
   "source": [
    "for i in range(2, 10):\n",
    "    df1[f'x{i}'] = df1['x'] ** i\n",
    "\n",
    "df1.head()"
   ]
  },
  {
   "cell_type": "markdown",
   "metadata": {},
   "source": [
    "### Predict target after Polynomial Feature"
   ]
  },
  {
   "cell_type": "code",
   "execution_count": 46,
   "metadata": {},
   "outputs": [
    {
     "data": {
      "text/html": [
       "<div>\n",
       "<style scoped>\n",
       "    .dataframe tbody tr th:only-of-type {\n",
       "        vertical-align: middle;\n",
       "    }\n",
       "\n",
       "    .dataframe tbody tr th {\n",
       "        vertical-align: top;\n",
       "    }\n",
       "\n",
       "    .dataframe thead th {\n",
       "        text-align: right;\n",
       "    }\n",
       "</style>\n",
       "<table border=\"1\" class=\"dataframe\">\n",
       "  <thead>\n",
       "    <tr style=\"text-align: right;\">\n",
       "      <th></th>\n",
       "      <th>x</th>\n",
       "      <th>y</th>\n",
       "      <th>y_LR</th>\n",
       "      <th>y_RD</th>\n",
       "      <th>y_LS</th>\n",
       "      <th>y_EN</th>\n",
       "      <th>x2</th>\n",
       "      <th>x3</th>\n",
       "      <th>x4</th>\n",
       "      <th>x5</th>\n",
       "      <th>x6</th>\n",
       "      <th>x7</th>\n",
       "      <th>x8</th>\n",
       "      <th>x9</th>\n",
       "      <th>y_poly</th>\n",
       "    </tr>\n",
       "  </thead>\n",
       "  <tbody>\n",
       "    <tr>\n",
       "      <th>0</th>\n",
       "      <td>0</td>\n",
       "      <td>0.849062</td>\n",
       "      <td>0.745243</td>\n",
       "      <td>0.745237</td>\n",
       "      <td>0.723814</td>\n",
       "      <td>0.734451</td>\n",
       "      <td>0</td>\n",
       "      <td>0</td>\n",
       "      <td>0</td>\n",
       "      <td>0</td>\n",
       "      <td>0</td>\n",
       "      <td>0</td>\n",
       "      <td>0</td>\n",
       "      <td>0</td>\n",
       "      <td>1.544166</td>\n",
       "    </tr>\n",
       "    <tr>\n",
       "      <th>1</th>\n",
       "      <td>10</td>\n",
       "      <td>1.037144</td>\n",
       "      <td>0.672350</td>\n",
       "      <td>0.672344</td>\n",
       "      <td>0.652569</td>\n",
       "      <td>0.662388</td>\n",
       "      <td>100</td>\n",
       "      <td>1000</td>\n",
       "      <td>10000</td>\n",
       "      <td>100000</td>\n",
       "      <td>1000000</td>\n",
       "      <td>10000000</td>\n",
       "      <td>100000000</td>\n",
       "      <td>1000000000</td>\n",
       "      <td>1.286906</td>\n",
       "    </tr>\n",
       "    <tr>\n",
       "      <th>2</th>\n",
       "      <td>20</td>\n",
       "      <td>0.970162</td>\n",
       "      <td>0.599457</td>\n",
       "      <td>0.599452</td>\n",
       "      <td>0.581325</td>\n",
       "      <td>0.590325</td>\n",
       "      <td>400</td>\n",
       "      <td>8000</td>\n",
       "      <td>160000</td>\n",
       "      <td>3200000</td>\n",
       "      <td>64000000</td>\n",
       "      <td>1280000000</td>\n",
       "      <td>-169803776</td>\n",
       "      <td>898891776</td>\n",
       "      <td>1.044395</td>\n",
       "    </tr>\n",
       "    <tr>\n",
       "      <th>3</th>\n",
       "      <td>30</td>\n",
       "      <td>1.142372</td>\n",
       "      <td>0.526564</td>\n",
       "      <td>0.526559</td>\n",
       "      <td>0.510080</td>\n",
       "      <td>0.518262</td>\n",
       "      <td>900</td>\n",
       "      <td>27000</td>\n",
       "      <td>810000</td>\n",
       "      <td>24300000</td>\n",
       "      <td>729000000</td>\n",
       "      <td>395163520</td>\n",
       "      <td>-1029996288</td>\n",
       "      <td>-835117568</td>\n",
       "      <td>0.816634</td>\n",
       "    </tr>\n",
       "    <tr>\n",
       "      <th>4</th>\n",
       "      <td>40</td>\n",
       "      <td>0.923406</td>\n",
       "      <td>0.453671</td>\n",
       "      <td>0.453667</td>\n",
       "      <td>0.438835</td>\n",
       "      <td>0.446200</td>\n",
       "      <td>1600</td>\n",
       "      <td>64000</td>\n",
       "      <td>2560000</td>\n",
       "      <td>102400000</td>\n",
       "      <td>-198967296</td>\n",
       "      <td>631242752</td>\n",
       "      <td>-520093696</td>\n",
       "      <td>671088640</td>\n",
       "      <td>0.603622</td>\n",
       "    </tr>\n",
       "  </tbody>\n",
       "</table>\n",
       "</div>"
      ],
      "text/plain": [
       "    x         y      y_LR      y_RD      y_LS      y_EN    x2     x3       x4  \\\n",
       "0   0  0.849062  0.745243  0.745237  0.723814  0.734451     0      0        0   \n",
       "1  10  1.037144  0.672350  0.672344  0.652569  0.662388   100   1000    10000   \n",
       "2  20  0.970162  0.599457  0.599452  0.581325  0.590325   400   8000   160000   \n",
       "3  30  1.142372  0.526564  0.526559  0.510080  0.518262   900  27000   810000   \n",
       "4  40  0.923406  0.453671  0.453667  0.438835  0.446200  1600  64000  2560000   \n",
       "\n",
       "          x5         x6          x7          x8          x9    y_poly  \n",
       "0          0          0           0           0           0  1.544166  \n",
       "1     100000    1000000    10000000   100000000  1000000000  1.286906  \n",
       "2    3200000   64000000  1280000000  -169803776   898891776  1.044395  \n",
       "3   24300000  729000000   395163520 -1029996288  -835117568  0.816634  \n",
       "4  102400000 -198967296   631242752  -520093696   671088640  0.603622  "
      ]
     },
     "execution_count": 46,
     "metadata": {},
     "output_type": "execute_result"
    }
   ],
   "source": [
    "model_poly = LinearRegression()\n",
    "model_poly.fit(df1[['x', 'x2']], df1['y'])\n",
    "\n",
    "df1['y_poly'] = model_poly.predict(df1[['x', 'x2']])\n",
    "df1.head()"
   ]
  },
  {
   "cell_type": "markdown",
   "metadata": {},
   "source": [
    "### Visualize Prediction"
   ]
  },
  {
   "cell_type": "code",
   "execution_count": 48,
   "metadata": {},
   "outputs": [],
   "source": [
    "model_poly = LinearRegression()\n",
    "\n",
    "xn = ['x']\n",
    "for i in range(2, 6):\n",
    "    xn.append(f'x{i}')\n",
    "    model_poly.fit(df1[xn], df1['y']) # fitting model\n",
    "    df1[f'y_Poly{i}'] = model_poly.predict(df1[xn]) #prediksi"
   ]
  },
  {
   "cell_type": "code",
   "execution_count": 49,
   "metadata": {},
   "outputs": [
    {
     "data": {
      "image/png": "[encoded data removed]",
      "text/plain": [
       "<Figure size 576x396 with 1 Axes>"
      ]
     },
     "metadata": {},
     "output_type": "display_data"
    }
   ],
   "source": [
    "plt.plot(df1['x'], df1['y'], 'k.')\n",
    "plt.plot(df1['x'], df1['y_Poly2'], 'm-')\n",
    "plt.plot(df1['x'], df1['y_Poly3'], 'b-')\n",
    "plt.plot(df1['x'], df1['y_Poly4'], 'r-')\n",
    "plt.plot(df1['x'], df1['y_Poly5'], 'g-')\n",
    "plt.legend(['Data', 'Pangkat2', 'Pangkat3', 'Pangkat4', 'Pangkat5'])\n",
    "plt.xlabel('Variabel X')\n",
    "plt.ylabel('Variabel Y')\n",
    "plt.show()"
   ]
  },
  {
   "cell_type": "markdown",
   "metadata": {},
   "source": [
    "## Evaluating Model After Polynomial"
   ]
  },
  {
   "cell_type": "code",
   "execution_count": 50,
   "metadata": {},
   "outputs": [
    {
     "name": "stdout",
     "output_type": "stream",
     "text": [
      "RMSE y_Poly2:  0.2589530164222779\n",
      "RMSE y_Poly3:  0.1586290334954431\n",
      "RMSE y_Poly4:  0.15857552276633807\n",
      "RMSE y_Poly5:  0.15845679783131741\n"
     ]
    }
   ],
   "source": [
    "print('RMSE y_Poly2: ', np.sqrt(mse(df1['y'], df1['y_Poly2'])))\n",
    "print('RMSE y_Poly3: ', np.sqrt(mse(df1['y'], df1['y_Poly3'])))\n",
    "print('RMSE y_Poly4: ', np.sqrt(mse(df1['y'], df1['y_Poly4'])))\n",
    "print('RMSE y_Poly5: ', np.sqrt(mse(df1['y'], df1['y_Poly5'])))"
   ]
  },
  {
   "cell_type": "markdown",
   "metadata": {},
   "source": [
    "## Polynomial Features\n",
    "*Digunakan untuk memangkatkan kolom/feature secara teriterasi, tidak perlu satu per satu*"
   ]
  },
  {
   "cell_type": "code",
   "execution_count": 51,
   "metadata": {},
   "outputs": [],
   "source": [
    "from sklearn.preprocessing import PolynomialFeatures as PF"
   ]
  },
  {
   "cell_type": "code",
   "execution_count": 52,
   "metadata": {},
   "outputs": [
    {
     "data": {
      "text/plain": [
       "[<matplotlib.lines.Line2D at 0x19375da3a90>]"
      ]
     },
     "execution_count": 52,
     "metadata": {},
     "output_type": "execute_result"
    },
    {
     "data": {
      "image/png": "[encoded data removed]",
      "text/plain": [
       "<Figure size 576x396 with 1 Axes>"
      ]
     },
     "metadata": {},
     "output_type": "display_data"
    }
   ],
   "source": [
    "x = np.arange(0, 270, 10)\n",
    "y = np.cos(x * np.pi/180) + np.random.normal(0, 0.15, len(x))\n",
    "df = pd.DataFrame({'x':x, 'y':y})\n",
    "plt.plot(df['x'], df['y'], 'k.')"
   ]
  },
  {
   "cell_type": "code",
   "execution_count": 53,
   "metadata": {},
   "outputs": [
    {
     "data": {
      "text/plain": [
       "array([[ 2.,  4.,  8., 16., 32.]])"
      ]
     },
     "execution_count": 53,
     "metadata": {},
     "output_type": "execute_result"
    }
   ],
   "source": [
    "# UJI COBA A\n",
    "a = [2]\n",
    "apoli = PF(5, include_bias=False) # supaya tidak mengikutsertakan 2 pangkat nol\n",
    "apoli.fit_transform([a]) # a dipangkat sampai pangkat 5"
   ]
  },
  {
   "cell_type": "code",
   "execution_count": 54,
   "metadata": {},
   "outputs": [
    {
     "data": {
      "text/html": [
       "<div>\n",
       "<style scoped>\n",
       "    .dataframe tbody tr th:only-of-type {\n",
       "        vertical-align: middle;\n",
       "    }\n",
       "\n",
       "    .dataframe tbody tr th {\n",
       "        vertical-align: top;\n",
       "    }\n",
       "\n",
       "    .dataframe thead th {\n",
       "        text-align: right;\n",
       "    }\n",
       "</style>\n",
       "<table border=\"1\" class=\"dataframe\">\n",
       "  <thead>\n",
       "    <tr style=\"text-align: right;\">\n",
       "      <th></th>\n",
       "      <th>0</th>\n",
       "      <th>1</th>\n",
       "      <th>2</th>\n",
       "      <th>3</th>\n",
       "      <th>4</th>\n",
       "    </tr>\n",
       "  </thead>\n",
       "  <tbody>\n",
       "    <tr>\n",
       "      <th>0</th>\n",
       "      <td>3.0</td>\n",
       "      <td>9.0</td>\n",
       "      <td>27.0</td>\n",
       "      <td>81.0</td>\n",
       "      <td>243.0</td>\n",
       "    </tr>\n",
       "    <tr>\n",
       "      <th>1</th>\n",
       "      <td>6.0</td>\n",
       "      <td>36.0</td>\n",
       "      <td>216.0</td>\n",
       "      <td>1296.0</td>\n",
       "      <td>7776.0</td>\n",
       "    </tr>\n",
       "    <tr>\n",
       "      <th>2</th>\n",
       "      <td>9.0</td>\n",
       "      <td>81.0</td>\n",
       "      <td>729.0</td>\n",
       "      <td>6561.0</td>\n",
       "      <td>59049.0</td>\n",
       "    </tr>\n",
       "  </tbody>\n",
       "</table>\n",
       "</div>"
      ],
      "text/plain": [
       "     0     1      2       3        4\n",
       "0  3.0   9.0   27.0    81.0    243.0\n",
       "1  6.0  36.0  216.0  1296.0   7776.0\n",
       "2  9.0  81.0  729.0  6561.0  59049.0"
      ]
     },
     "execution_count": 54,
     "metadata": {},
     "output_type": "execute_result"
    }
   ],
   "source": [
    "# UJI COBA B\n",
    "b = [3, 6, 9]\n",
    "bpoli = PF(5, include_bias=False)\n",
    "bp = bpoli.fit_transform(np.array(b).reshape(-1,1)).tolist()\n",
    "pd.DataFrame(bp)"
   ]
  },
  {
   "cell_type": "code",
   "execution_count": 55,
   "metadata": {
    "scrolled": false
   },
   "outputs": [
    {
     "data": {
      "text/html": [
       "<div>\n",
       "<style scoped>\n",
       "    .dataframe tbody tr th:only-of-type {\n",
       "        vertical-align: middle;\n",
       "    }\n",
       "\n",
       "    .dataframe tbody tr th {\n",
       "        vertical-align: top;\n",
       "    }\n",
       "\n",
       "    .dataframe thead th {\n",
       "        text-align: right;\n",
       "    }\n",
       "</style>\n",
       "<table border=\"1\" class=\"dataframe\">\n",
       "  <thead>\n",
       "    <tr style=\"text-align: right;\">\n",
       "      <th></th>\n",
       "      <th>c</th>\n",
       "      <th>0</th>\n",
       "      <th>1</th>\n",
       "      <th>2</th>\n",
       "      <th>3</th>\n",
       "      <th>4</th>\n",
       "    </tr>\n",
       "  </thead>\n",
       "  <tbody>\n",
       "    <tr>\n",
       "      <th>0</th>\n",
       "      <td>1</td>\n",
       "      <td>1.0</td>\n",
       "      <td>1.0</td>\n",
       "      <td>1.0</td>\n",
       "      <td>1.0</td>\n",
       "      <td>1.0</td>\n",
       "    </tr>\n",
       "    <tr>\n",
       "      <th>1</th>\n",
       "      <td>2</td>\n",
       "      <td>2.0</td>\n",
       "      <td>4.0</td>\n",
       "      <td>8.0</td>\n",
       "      <td>16.0</td>\n",
       "      <td>32.0</td>\n",
       "    </tr>\n",
       "    <tr>\n",
       "      <th>2</th>\n",
       "      <td>3</td>\n",
       "      <td>3.0</td>\n",
       "      <td>9.0</td>\n",
       "      <td>27.0</td>\n",
       "      <td>81.0</td>\n",
       "      <td>243.0</td>\n",
       "    </tr>\n",
       "    <tr>\n",
       "      <th>3</th>\n",
       "      <td>4</td>\n",
       "      <td>4.0</td>\n",
       "      <td>16.0</td>\n",
       "      <td>64.0</td>\n",
       "      <td>256.0</td>\n",
       "      <td>1024.0</td>\n",
       "    </tr>\n",
       "    <tr>\n",
       "      <th>4</th>\n",
       "      <td>5</td>\n",
       "      <td>5.0</td>\n",
       "      <td>25.0</td>\n",
       "      <td>125.0</td>\n",
       "      <td>625.0</td>\n",
       "      <td>3125.0</td>\n",
       "    </tr>\n",
       "    <tr>\n",
       "      <th>5</th>\n",
       "      <td>6</td>\n",
       "      <td>6.0</td>\n",
       "      <td>36.0</td>\n",
       "      <td>216.0</td>\n",
       "      <td>1296.0</td>\n",
       "      <td>7776.0</td>\n",
       "    </tr>\n",
       "    <tr>\n",
       "      <th>6</th>\n",
       "      <td>7</td>\n",
       "      <td>7.0</td>\n",
       "      <td>49.0</td>\n",
       "      <td>343.0</td>\n",
       "      <td>2401.0</td>\n",
       "      <td>16807.0</td>\n",
       "    </tr>\n",
       "    <tr>\n",
       "      <th>7</th>\n",
       "      <td>8</td>\n",
       "      <td>8.0</td>\n",
       "      <td>64.0</td>\n",
       "      <td>512.0</td>\n",
       "      <td>4096.0</td>\n",
       "      <td>32768.0</td>\n",
       "    </tr>\n",
       "    <tr>\n",
       "      <th>8</th>\n",
       "      <td>9</td>\n",
       "      <td>9.0</td>\n",
       "      <td>81.0</td>\n",
       "      <td>729.0</td>\n",
       "      <td>6561.0</td>\n",
       "      <td>59049.0</td>\n",
       "    </tr>\n",
       "    <tr>\n",
       "      <th>9</th>\n",
       "      <td>10</td>\n",
       "      <td>10.0</td>\n",
       "      <td>100.0</td>\n",
       "      <td>1000.0</td>\n",
       "      <td>10000.0</td>\n",
       "      <td>100000.0</td>\n",
       "    </tr>\n",
       "  </tbody>\n",
       "</table>\n",
       "</div>"
      ],
      "text/plain": [
       "    c     0      1       2        3         4\n",
       "0   1   1.0    1.0     1.0      1.0       1.0\n",
       "1   2   2.0    4.0     8.0     16.0      32.0\n",
       "2   3   3.0    9.0    27.0     81.0     243.0\n",
       "3   4   4.0   16.0    64.0    256.0    1024.0\n",
       "4   5   5.0   25.0   125.0    625.0    3125.0\n",
       "5   6   6.0   36.0   216.0   1296.0    7776.0\n",
       "6   7   7.0   49.0   343.0   2401.0   16807.0\n",
       "7   8   8.0   64.0   512.0   4096.0   32768.0\n",
       "8   9   9.0   81.0   729.0   6561.0   59049.0\n",
       "9  10  10.0  100.0  1000.0  10000.0  100000.0"
      ]
     },
     "execution_count": 55,
     "metadata": {},
     "output_type": "execute_result"
    }
   ],
   "source": [
    "# UJI COBA C\n",
    "df2 = pd.DataFrame({'c': np.arange(1, 11)})\n",
    "\n",
    "cpoli = PF(5, include_bias=False)\n",
    "cp = cpoli.fit_transform(df2[['c']])\n",
    "df_cp = pd.DataFrame(cp)\n",
    "\n",
    "df3 = pd.concat([df2, df_cp], axis = 1)\n",
    "df3"
   ]
  },
  {
   "cell_type": "markdown",
   "metadata": {},
   "source": [
    "## Pipeline\n",
    "Package yang digunakan untuk menjalankan package atau method secara sekaligus"
   ]
  },
  {
   "cell_type": "code",
   "execution_count": 56,
   "metadata": {},
   "outputs": [],
   "source": [
    "from sklearn.pipeline import make_pipeline"
   ]
  },
  {
   "cell_type": "code",
   "execution_count": 57,
   "metadata": {},
   "outputs": [],
   "source": [
    "df4 = df.copy()"
   ]
  },
  {
   "cell_type": "code",
   "execution_count": 31,
   "metadata": {},
   "outputs": [],
   "source": [
    "# membuat pipeline (jalur) menjalankan polynomial feature, lalu menjalankan linear regression\n",
    "poly_reg = make_pipeline(\n",
    "    PF(2, include_bias=False),\n",
    "    LinearRegression()\n",
    ")"
   ]
  },
  {
   "cell_type": "code",
   "execution_count": 58,
   "metadata": {},
   "outputs": [],
   "source": [
    "# fitting model\n",
    "poly_reg.fit(df4[['x']], df4['y'])\n",
    "\n",
    "# predict\n",
    "df4['y\"2'] = poly_reg.predict(df4[['x']])"
   ]
  },
  {
   "cell_type": "code",
   "execution_count": 59,
   "metadata": {},
   "outputs": [
    {
     "data": {
      "image/png": "[encoded data removed]",
      "text/plain": [
       "<Figure size 576x396 with 1 Axes>"
      ]
     },
     "metadata": {},
     "output_type": "display_data"
    }
   ],
   "source": [
    "# visualize\n",
    "plt.plot(df4['x'], df4['y'], 'k.')\n",
    "plt.plot(df4['x'], df4['y\"2'], 'r-')\n",
    "plt.show()"
   ]
  },
  {
   "cell_type": "markdown",
   "metadata": {},
   "source": [
    "## In-Class Exercise\n",
    "\n",
    "Jalankan Polynomial Regression, Linear Regression, Lasso, Ridge, ElasticNet pada data di bawah!\n",
    "Bandingkan error dari tiap model!"
   ]
  },
  {
   "cell_type": "code",
   "execution_count": 61,
   "metadata": {},
   "outputs": [],
   "source": [
    "poly_reg_2 = make_pipeline(\n",
    "    PF(2, include_bias=False),\n",
    "    LinearRegression()\n",
    ")"
   ]
  },
  {
   "cell_type": "code",
   "execution_count": 103,
   "metadata": {},
   "outputs": [
    {
     "data": {
      "image/png": "[encoded data removed]",
      "text/plain": [
       "<Figure size 576x396 with 1 Axes>"
      ]
     },
     "metadata": {},
     "output_type": "display_data"
    }
   ],
   "source": [
    "data3 = {\n",
    "    'x': np.arange(1, 11),\n",
    "    'y': [0, 0, 0, 0, 0, 0, 1, 1, 1, 1]\n",
    "}\n",
    "df5 = pd.DataFrame(data3)\n",
    "plt.plot(df5['x'], df5['y'], 'o-')\n",
    "plt.show()"
   ]
  },
  {
   "cell_type": "markdown",
   "metadata": {},
   "source": [
    "# Alur menggunakan Pipeline untuk Model\n",
    "### 1. Buat Pipeline Model"
   ]
  },
  {
   "cell_type": "code",
   "execution_count": 108,
   "metadata": {},
   "outputs": [],
   "source": [
    "model_poli = make_pipeline(\n",
    "    PF(8, include_bias=False),\n",
    "    LinearRegression()\n",
    ")"
   ]
  },
  {
   "cell_type": "markdown",
   "metadata": {},
   "source": [
    "### 2. Fitting data dengan model pipeline"
   ]
  },
  {
   "cell_type": "code",
   "execution_count": 109,
   "metadata": {},
   "outputs": [
    {
     "data": {
      "text/plain": [
       "Pipeline(steps=[('polynomialfeatures',\n",
       "                 PolynomialFeatures(degree=8, include_bias=False)),\n",
       "                ('linearregression', LinearRegression())])"
      ]
     },
     "execution_count": 109,
     "metadata": {},
     "output_type": "execute_result"
    }
   ],
   "source": [
    "model_poli.fit(df5[['x']], df5['y'])"
   ]
  },
  {
   "cell_type": "markdown",
   "metadata": {},
   "source": [
    "### 3. Predict Menggunakan Model dan masukkan ke DataFrame Data"
   ]
  },
  {
   "cell_type": "code",
   "execution_count": 110,
   "metadata": {},
   "outputs": [],
   "source": [
    "df5['y\"E'] = model_poli.predict(df5[['x']])"
   ]
  },
  {
   "cell_type": "markdown",
   "metadata": {},
   "source": [
    "### 4. Visualisasikan Model"
   ]
  },
  {
   "cell_type": "code",
   "execution_count": 111,
   "metadata": {},
   "outputs": [
    {
     "data": {
      "text/plain": [
       "<matplotlib.legend.Legend at 0x1937829a640>"
      ]
     },
     "execution_count": 111,
     "metadata": {},
     "output_type": "execute_result"
    },
    {
     "data": {
      "image/png": "[encoded data removed]",
      "text/plain": [
       "<Figure size 576x396 with 1 Axes>"
      ]
     },
     "metadata": {},
     "output_type": "display_data"
    }
   ],
   "source": [
    "plt.plot(df5['x'], df5['y'], 'o-', label='Data Asli')\n",
    "plt.plot(df5['x'], df5['y\"E'], 'k-', label='Model Polynomial')\n",
    "plt.legend()"
   ]
  },
  {
   "cell_type": "code",
   "execution_count": 35,
   "metadata": {},
   "outputs": [
    {
     "data": {
      "image/png": "[encoded data removed]",
      "text/plain": [
       "<Figure size 576x396 with 1 Axes>"
      ]
     },
     "metadata": {},
     "output_type": "display_data"
    }
   ],
   "source": [
    "modelA = LinearRegression()\n",
    "modelB = Ridge()\n",
    "modelC = Lasso()\n",
    "modelD = ElasticNet()\n",
    "modelE = make_pipeline(\n",
    "    PF(6, include_bias=False),\n",
    "    LinearRegression()\n",
    ")\n",
    "\n",
    "modelA.fit(df5[['x']], df5['y'])\n",
    "modelB.fit(df5[['x']], df5['y'])\n",
    "modelC.fit(df5[['x']], df5['y'])\n",
    "modelD.fit(df5[['x']], df5['y'])\n",
    "modelE.fit(df5[['x']], df5['y'])\n",
    "\n",
    "df5['y\"A'] = modelA.predict(df5[['x']])\n",
    "df5['y\"B'] = modelB.predict(df5[['x']])\n",
    "df5['y\"C'] = modelC.predict(df5[['x']])\n",
    "df5['y\"D'] = modelD.predict(df5[['x']])\n",
    "df5['y\"E'] = modelE.predict(df5[['x']])\n",
    "\n",
    "plt.plot(df5['x'], df5['y'], 'k.')\n",
    "plt.plot(df5['x'], df5['y\"A'], 'm-')\n",
    "plt.plot(df5['x'], df5['y\"B'], 'b-')\n",
    "plt.plot(df5['x'], df5['y\"C'], 'r-')\n",
    "plt.plot(df5['x'], df5['y\"D'], 'g-')\n",
    "plt.plot(df5['x'], df5['y\"E'], 'k-')\n",
    "plt.legend(['Data', 'Linear', 'Ridge', 'Lasso', 'ElasticNet', 'Polynomial'])\n",
    "plt.show()"
   ]
  },
  {
   "cell_type": "code",
   "execution_count": 36,
   "metadata": {},
   "outputs": [
    {
     "name": "stdout",
     "output_type": "stream",
     "text": [
      "RMSE Linear:  0.25584085962673253\n",
      "RMSE Ridge:  0.2558897804966631\n",
      "RMSE Lasso:  0.43204937989385744\n",
      "RMSE ElasticNet:  0.31749015732775093\n",
      "RMSE Polynomial:  0.11587309190046269\n"
     ]
    }
   ],
   "source": [
    "print('RMSE Linear: ', np.sqrt(mse(df5['y'], df5['y\"A'])))\n",
    "print('RMSE Ridge: ', np.sqrt(mse(df5['y'], df5['y\"B'])))\n",
    "print('RMSE Lasso: ', np.sqrt(mse(df5['y'], df5['y\"C'])))\n",
    "print('RMSE ElasticNet: ', np.sqrt(mse(df5['y'], df5['y\"D'])))\n",
    "print('RMSE Polynomial: ', np.sqrt(mse(df5['y'], df5['y\"E'])))"
   ]
  },
  {
   "cell_type": "markdown",
   "metadata": {},
   "source": [
    "### Reference:\n",
    "\n",
    "- Ayush Pant, \"Introduction to Linear Regression and Polynomial Regression\", https://towardsdatascience.com/introduction-to-linear-regression-and-polynomial-regression-f8adc96f31cb\n",
    "- Animesh Agarwal, \"Polynomial Regression\", https://towardsdatascience.com/polynomial-regression-bbe8b9d97491\n",
    "- w3schools, \"Machine Learning - Polynomial Regression\", https://www.w3schools.com/python/python_ml_polynomial_regression.asp\n",
    "- GeeksforGeeks, \"Python | Implementation of Polynomial Regression\", https://www.geeksforgeeks.org/python-implementation-of-polynomial-regression/\n",
    "- Vijay Swamy, \"Lasso Versus Ridge Versus Elastic Net\", https://medium.com/@vijay.swamy1/lasso-versus-ridge-versus-elastic-net-1d57cfc64b58\n",
    "- Hackernoon, \"An Introduction to Ridge, Lasso, and Elastic Net Regression\", https://hackernoon.com/an-introduction-to-ridge-lasso-and-elastic-net-regression-cca60b4b934f\n",
    "- STHDA, \"Model Selection Essentials in R Penalized Regression Essentials: Ridge, Lasso & Elastic Net\", http://www.sthda.com/english/articles/37-model-selection-essentials-in-r/153-penalized-regression-essentials-ridge-lasso-elastic-net/\n",
    "- Michał Oleszak, \"Regularization: Ridge, Lasso and Elastic Net\", https://www.datacamp.com/community/tutorials/tutorial-ridge-lasso-elastic-net\n",
    "- Divyansh Dwivedi, \"Machine Learning For Beginners\", https://towardsdatascience.com/machine-learning-for-beginners-d247a9420dab\n",
    "- Terence S, \"All Machine Learning Models Explained in 6 Minutes\", https://towardsdatascience.com/all-machine-learning-models-explained-in-6-minutes-9fe30ff6776a\n",
    "- Elite Data Science, \"Modern Machine Learning Algorithms: Strengths and Weaknesses\", https://elitedatascience.com/machine-learning-algorithms\n",
    "- Jati.stta.ac.id, \"https://jati.stta.ac.id/2016/05/komputasi-numeris-analisis-regresi.html\", https://jati.stta.ac.id/2016/05/komputasi-numeris-analisis-regresi.html\n",
    "- Roan Gylberth, \"Apa itu regularisasi dalam pemelajaran mesin?\", https://id.quora.com/Apa-itu-regularisasi-dalam-pemelajaran-mesin"
   ]
  },
  {
   "cell_type": "code",
   "execution_count": null,
   "metadata": {},
   "outputs": [],
   "source": []
  }
 ],
 "metadata": {
  "kernelspec": {
   "display_name": "Python 3",
   "language": "python",
   "name": "python3"
  },
  "language_info": {
   "codemirror_mode": {
    "name": "ipython",
    "version": 3
   },
   "file_extension": ".py",
   "mimetype": "text/x-python",
   "name": "python",
   "nbconvert_exporter": "python",
   "pygments_lexer": "ipython3",
   "version": "3.8.3"
  }
 },
 "nbformat": 4,
 "nbformat_minor": 2
}
